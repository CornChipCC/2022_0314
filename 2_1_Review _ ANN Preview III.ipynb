{
 "cells": [
  {
   "cell_type": "markdown",
   "metadata": {
    "id": "T7kdgJptO50L"
   },
   "source": [
    "# 1일차 Review : 같은 문제 다시 풀어보기\n",
    "\n",
    "    학습은 10번으로!"
   ]
  },
  {
   "cell_type": "code",
   "execution_count": 1,
   "metadata": {
    "id": "k-kIj84JQdd3"
   },
   "outputs": [],
   "source": [
    "from sklearn.datasets import load_iris"
   ]
  },
  {
   "cell_type": "code",
   "execution_count": 2,
   "metadata": {
    "id": "1F1kZLpEQof_"
   },
   "outputs": [],
   "source": [
    "iris = load_iris()"
   ]
  },
  {
   "cell_type": "code",
   "execution_count": 3,
   "metadata": {
    "id": "4uNPvbD_QyUh"
   },
   "outputs": [],
   "source": [
    "x = iris.data\n",
    "y = iris.target"
   ]
  },
  {
   "cell_type": "code",
   "execution_count": 4,
   "metadata": {
    "id": "6DfGrWUsQ3WC"
   },
   "outputs": [
    {
     "data": {
      "text/plain": [
       "((150, 4), (150,))"
      ]
     },
     "execution_count": 4,
     "metadata": {},
     "output_type": "execute_result"
    }
   ],
   "source": [
    "x.shape, y.shape"
   ]
  },
  {
   "cell_type": "code",
   "execution_count": 5,
   "metadata": {
    "id": "puqIL3FCRBs6"
   },
   "outputs": [],
   "source": [
    "#####################\n",
    "# 라이브러리 불러오기\n",
    "#####################\n",
    "import tensorflow as tf\n",
    "from tensorflow import keras\n",
    "\n",
    "import numpy as np\n",
    "from sklearn.model_selection import train_test_split\n",
    "from tensorflow.keras.utils import to_categorical       #  y에 대한 one-hot encoding"
   ]
  },
  {
   "cell_type": "code",
   "execution_count": 6,
   "metadata": {
    "id": "TY0leKum_owG"
   },
   "outputs": [],
   "source": [
    "#######################\n",
    "# 어떤 전처리 작업 필요\n",
    "# Hint : y.shape\n",
    "#######################\n",
    "x_train, x_test, y_train, y_test = train_test_split(x,y,random_state=2022,test_size=0.2)"
   ]
  },
  {
   "cell_type": "code",
   "execution_count": 7,
   "metadata": {},
   "outputs": [],
   "source": [
    "y_len = len(set(y_train))"
   ]
  },
  {
   "cell_type": "code",
   "execution_count": 8,
   "metadata": {},
   "outputs": [
    {
     "data": {
      "text/plain": [
       "{0, 1, 2}"
      ]
     },
     "execution_count": 8,
     "metadata": {},
     "output_type": "execute_result"
    }
   ],
   "source": [
    "set(y_train)"
   ]
  },
  {
   "cell_type": "code",
   "execution_count": 9,
   "metadata": {},
   "outputs": [],
   "source": [
    "y_train = to_categorical(y_train, y_len)\n",
    "y_test = to_categorical(y_test,y_len)"
   ]
  },
  {
   "cell_type": "code",
   "execution_count": 10,
   "metadata": {},
   "outputs": [
    {
     "data": {
      "text/plain": [
       "((120, 4), (120, 3))"
      ]
     },
     "execution_count": 10,
     "metadata": {},
     "output_type": "execute_result"
    }
   ],
   "source": [
    "x_train.shape, y_train.shape"
   ]
  },
  {
   "cell_type": "code",
   "execution_count": 11,
   "metadata": {
    "id": "broVdGpGbqrC"
   },
   "outputs": [
    {
     "name": "stdout",
     "output_type": "stream",
     "text": [
      "Model: \"model\"\n",
      "_________________________________________________________________\n",
      " Layer (type)                Output Shape              Param #   \n",
      "=================================================================\n",
      " input_1 (InputLayer)        [(None, 4)]               0         \n",
      "                                                                 \n",
      " dense (Dense)               (None, 3)                 15        \n",
      "                                                                 \n",
      "=================================================================\n",
      "Total params: 15\n",
      "Trainable params: 15\n",
      "Non-trainable params: 0\n",
      "_________________________________________________________________\n"
     ]
    }
   ],
   "source": [
    "########\n",
    "# 모델링\n",
    "########\n",
    "keras.backend.clear_session()\n",
    "\n",
    "il = keras.layers.Input(shape = (4,))\n",
    "ol = keras.layers.Dense(3, activation = 'softmax')(il)\n",
    "\n",
    "model = keras.models.Model(il, ol)\n",
    "\n",
    "model.compile(loss= 'categorical_crossentropy',\n",
    "             optimizer = 'adam',\n",
    "             metrics=['accuracy'])\n",
    "model.summary()"
   ]
  },
  {
   "cell_type": "code",
   "execution_count": 12,
   "metadata": {
    "id": "4U3tZ7PvbljS"
   },
   "outputs": [
    {
     "name": "stdout",
     "output_type": "stream",
     "text": [
      "Epoch 1/10\n",
      "3/3 [==============================] - 1s 130ms/step - loss: 2.1498 - accuracy: 0.0938 - val_loss: 2.5104 - val_accuracy: 0.1250\n",
      "Epoch 2/10\n",
      "3/3 [==============================] - 0s 24ms/step - loss: 2.1319 - accuracy: 0.0833 - val_loss: 2.4779 - val_accuracy: 0.0833\n",
      "Epoch 3/10\n",
      "3/3 [==============================] - 0s 21ms/step - loss: 2.1144 - accuracy: 0.0312 - val_loss: 2.4468 - val_accuracy: 0.0833\n",
      "Epoch 4/10\n",
      "3/3 [==============================] - 0s 21ms/step - loss: 2.0949 - accuracy: 0.0312 - val_loss: 2.4182 - val_accuracy: 0.0833\n",
      "Epoch 5/10\n",
      "3/3 [==============================] - 0s 22ms/step - loss: 2.0775 - accuracy: 0.0312 - val_loss: 2.3906 - val_accuracy: 0.0000e+00\n",
      "Epoch 6/10\n",
      "3/3 [==============================] - 0s 24ms/step - loss: 2.0606 - accuracy: 0.0312 - val_loss: 2.3643 - val_accuracy: 0.0000e+00\n",
      "Epoch 7/10\n",
      "3/3 [==============================] - 0s 20ms/step - loss: 2.0451 - accuracy: 0.0312 - val_loss: 2.3383 - val_accuracy: 0.0000e+00\n",
      "Epoch 8/10\n",
      "3/3 [==============================] - 0s 22ms/step - loss: 2.0298 - accuracy: 0.0312 - val_loss: 2.3130 - val_accuracy: 0.0000e+00\n",
      "Epoch 9/10\n",
      "3/3 [==============================] - 0s 19ms/step - loss: 2.0149 - accuracy: 0.0417 - val_loss: 2.2881 - val_accuracy: 0.0000e+00\n",
      "Epoch 10/10\n",
      "3/3 [==============================] - 0s 20ms/step - loss: 1.9989 - accuracy: 0.0417 - val_loss: 2.2652 - val_accuracy: 0.0000e+00\n"
     ]
    },
    {
     "data": {
      "text/plain": [
       "<keras.callbacks.History at 0x2548f102e20>"
      ]
     },
     "execution_count": 12,
     "metadata": {},
     "output_type": "execute_result"
    }
   ],
   "source": [
    "###########\n",
    "# 모델 학습\n",
    "###########\n",
    "\n",
    "model.fit(x_train, y_train, epochs=10, verbose = 1, validation_split=0.2)"
   ]
  },
  {
   "cell_type": "code",
   "execution_count": 46,
   "metadata": {
    "id": "prSYRU-_AlYz"
   },
   "outputs": [
    {
     "data": {
      "text/plain": [
       "array([[0.00232528, 0.2756977 , 0.72197706],\n",
       "       [0.00122932, 0.30973873, 0.68903196],\n",
       "       [0.90051717, 0.08735523, 0.01212763],\n",
       "       [0.0059493 , 0.40180933, 0.59224135],\n",
       "       [0.94532466, 0.04870639, 0.00596897]], dtype=float32)"
      ]
     },
     "execution_count": 46,
     "metadata": {},
     "output_type": "execute_result"
    }
   ],
   "source": [
    "###########\n",
    "# 모델 예측\n",
    "###########\n",
    "y_pred = model.predict(x_test)\n",
    "\n",
    "y_pred[:5]\n"
   ]
  },
  {
   "cell_type": "code",
   "execution_count": 47,
   "metadata": {},
   "outputs": [
    {
     "data": {
      "text/plain": [
       "array([[2],\n",
       "       [2],\n",
       "       [0],\n",
       "       [2],\n",
       "       [0]], dtype=int64)"
      ]
     },
     "execution_count": 47,
     "metadata": {},
     "output_type": "execute_result"
    }
   ],
   "source": [
    "y_pred[:5].argmax(axis=1).reshape(-1,1)"
   ]
  },
  {
   "cell_type": "code",
   "execution_count": 48,
   "metadata": {},
   "outputs": [
    {
     "data": {
      "text/plain": [
       "array([[0., 0., 1.],\n",
       "       [0., 0., 1.],\n",
       "       [1., 0., 0.],\n",
       "       [0., 0., 1.],\n",
       "       [1., 0., 0.]], dtype=float32)"
      ]
     },
     "execution_count": 48,
     "metadata": {},
     "output_type": "execute_result"
    }
   ],
   "source": [
    "y_test[:5]"
   ]
  },
  {
   "cell_type": "markdown",
   "metadata": {
    "id": "0xVNQT9V-Iev"
   },
   "source": [
    "# 히든 레이어 추가하여 모델링! (Functional API)\n",
    "\n",
    "    히든 레이어 2개를 추가하여 다시 모델링!\n",
    "    히든 레이어 노드 수 : 32\n",
    "    히든 레이어 activation = 'relu'"
   ]
  },
  {
   "cell_type": "code",
   "execution_count": 55,
   "metadata": {
    "id": "y3PTU3m--xMa"
   },
   "outputs": [
    {
     "name": "stdout",
     "output_type": "stream",
     "text": [
      "Model: \"model\"\n",
      "_________________________________________________________________\n",
      " Layer (type)                Output Shape              Param #   \n",
      "=================================================================\n",
      " input_1 (InputLayer)        [(None, 4)]               0         \n",
      "                                                                 \n",
      " dense (Dense)               (None, 32)                160       \n",
      "                                                                 \n",
      " dense_1 (Dense)             (None, 3)                 99        \n",
      "                                                                 \n",
      "=================================================================\n",
      "Total params: 259\n",
      "Trainable params: 259\n",
      "Non-trainable params: 0\n",
      "_________________________________________________________________\n"
     ]
    }
   ],
   "source": [
    "########\n",
    "# 모델링\n",
    "########\n",
    "keras.backend.clear_session()\n",
    "\n",
    "il = keras.layers.Input(shape = (4,))\n",
    "hl = keras.layers.Dense(32,activation = 'relu')(il)\n",
    "ol = keras.layers.Dense(3, activation = 'softmax')(hl)\n",
    "\n",
    "model = keras.models.Model(il, ol)\n",
    "\n",
    "model.compile(loss= 'categorical_crossentropy',\n",
    "             optimizer = 'adam',\n",
    "             metrics=['accuracy'])\n",
    "model.summary()\n"
   ]
  },
  {
   "cell_type": "code",
   "execution_count": 56,
   "metadata": {},
   "outputs": [],
   "source": [
    "# Early Stopping\n",
    "from tensorflow.keras.callbacks import EarlyStopping"
   ]
  },
  {
   "cell_type": "code",
   "execution_count": 57,
   "metadata": {},
   "outputs": [],
   "source": [
    "es = EarlyStopping(monitor='val_loss',         # 무엇을 관찰할래?\n",
    "                  min_delta = 0,               # 0이면 최소한 나빠지지만 않으면 괜찮아\n",
    "                  patience = 3,                # monitor가 개선되지 않는 거를 몇번 참을래\n",
    "                  verbose = 1,                 # Early Stopping 된 것을 보여줌     \n",
    "                  restore_best_weights=True)   # 중요! 최적의 학습 가중치를 모델에 전달"
   ]
  },
  {
   "cell_type": "code",
   "execution_count": 58,
   "metadata": {
    "id": "HbvMea71-xMb",
    "scrolled": true
   },
   "outputs": [
    {
     "name": "stdout",
     "output_type": "stream",
     "text": [
      "Epoch 1/500\n",
      "3/3 [==============================] - 1s 98ms/step - loss: 2.9991 - accuracy: 0.3229 - val_loss: 2.3925 - val_accuracy: 0.4167\n",
      "Epoch 2/500\n",
      "3/3 [==============================] - 0s 20ms/step - loss: 2.7535 - accuracy: 0.3229 - val_loss: 2.1876 - val_accuracy: 0.4167\n",
      "Epoch 3/500\n",
      "3/3 [==============================] - 0s 19ms/step - loss: 2.5056 - accuracy: 0.3229 - val_loss: 1.9943 - val_accuracy: 0.4167\n",
      "Epoch 4/500\n",
      "3/3 [==============================] - 0s 19ms/step - loss: 2.2811 - accuracy: 0.3229 - val_loss: 1.8131 - val_accuracy: 0.4167\n",
      "Epoch 5/500\n",
      "3/3 [==============================] - 0s 22ms/step - loss: 2.0715 - accuracy: 0.3229 - val_loss: 1.6465 - val_accuracy: 0.4167\n",
      "Epoch 6/500\n",
      "3/3 [==============================] - 0s 23ms/step - loss: 1.8773 - accuracy: 0.3229 - val_loss: 1.4995 - val_accuracy: 0.4167\n",
      "Epoch 7/500\n",
      "3/3 [==============================] - 0s 19ms/step - loss: 1.6987 - accuracy: 0.3229 - val_loss: 1.3761 - val_accuracy: 0.4167\n",
      "Epoch 8/500\n",
      "3/3 [==============================] - 0s 24ms/step - loss: 1.5553 - accuracy: 0.3229 - val_loss: 1.2746 - val_accuracy: 0.4167\n",
      "Epoch 9/500\n",
      "3/3 [==============================] - 0s 21ms/step - loss: 1.4318 - accuracy: 0.3229 - val_loss: 1.1973 - val_accuracy: 0.4167\n",
      "Epoch 10/500\n",
      "3/3 [==============================] - 0s 23ms/step - loss: 1.3436 - accuracy: 0.3229 - val_loss: 1.1408 - val_accuracy: 0.4167\n",
      "Epoch 11/500\n",
      "3/3 [==============================] - 0s 20ms/step - loss: 1.2757 - accuracy: 0.3229 - val_loss: 1.1029 - val_accuracy: 0.4167\n",
      "Epoch 12/500\n",
      "3/3 [==============================] - 0s 24ms/step - loss: 1.2247 - accuracy: 0.3542 - val_loss: 1.0789 - val_accuracy: 0.4167\n",
      "Epoch 13/500\n",
      "3/3 [==============================] - 0s 20ms/step - loss: 1.1868 - accuracy: 0.4375 - val_loss: 1.0644 - val_accuracy: 0.5000\n",
      "Epoch 14/500\n",
      "3/3 [==============================] - 0s 20ms/step - loss: 1.1602 - accuracy: 0.3333 - val_loss: 1.0567 - val_accuracy: 0.3333\n",
      "Epoch 15/500\n",
      "3/3 [==============================] - 0s 21ms/step - loss: 1.1388 - accuracy: 0.3125 - val_loss: 1.0521 - val_accuracy: 0.4167\n",
      "Epoch 16/500\n",
      "3/3 [==============================] - 0s 18ms/step - loss: 1.1175 - accuracy: 0.3229 - val_loss: 1.0482 - val_accuracy: 0.3750\n",
      "Epoch 17/500\n",
      "3/3 [==============================] - 0s 18ms/step - loss: 1.1032 - accuracy: 0.3229 - val_loss: 1.0450 - val_accuracy: 0.3750\n",
      "Epoch 18/500\n",
      "3/3 [==============================] - 0s 20ms/step - loss: 1.0884 - accuracy: 0.2812 - val_loss: 1.0414 - val_accuracy: 0.2500\n",
      "Epoch 19/500\n",
      "3/3 [==============================] - 0s 18ms/step - loss: 1.0766 - accuracy: 0.2500 - val_loss: 1.0377 - val_accuracy: 0.2083\n",
      "Epoch 20/500\n",
      "3/3 [==============================] - 0s 22ms/step - loss: 1.0658 - accuracy: 0.1875 - val_loss: 1.0340 - val_accuracy: 0.1667\n",
      "Epoch 21/500\n",
      "3/3 [==============================] - 0s 18ms/step - loss: 1.0553 - accuracy: 0.1771 - val_loss: 1.0289 - val_accuracy: 0.1667\n",
      "Epoch 22/500\n",
      "3/3 [==============================] - 0s 21ms/step - loss: 1.0457 - accuracy: 0.1562 - val_loss: 1.0221 - val_accuracy: 0.1667\n",
      "Epoch 23/500\n",
      "3/3 [==============================] - 0s 18ms/step - loss: 1.0382 - accuracy: 0.1354 - val_loss: 1.0165 - val_accuracy: 0.1667\n",
      "Epoch 24/500\n",
      "3/3 [==============================] - 0s 19ms/step - loss: 1.0299 - accuracy: 0.1354 - val_loss: 1.0095 - val_accuracy: 0.1250\n",
      "Epoch 25/500\n",
      "3/3 [==============================] - 0s 18ms/step - loss: 1.0221 - accuracy: 0.1250 - val_loss: 1.0013 - val_accuracy: 0.0833\n",
      "Epoch 26/500\n",
      "3/3 [==============================] - 0s 20ms/step - loss: 1.0146 - accuracy: 0.1354 - val_loss: 0.9927 - val_accuracy: 0.0833\n",
      "Epoch 27/500\n",
      "3/3 [==============================] - 0s 18ms/step - loss: 1.0071 - accuracy: 0.1458 - val_loss: 0.9837 - val_accuracy: 0.0833\n",
      "Epoch 28/500\n",
      "3/3 [==============================] - 0s 21ms/step - loss: 0.9999 - accuracy: 0.1562 - val_loss: 0.9748 - val_accuracy: 0.2083\n",
      "Epoch 29/500\n",
      "3/3 [==============================] - 0s 21ms/step - loss: 0.9925 - accuracy: 0.2188 - val_loss: 0.9654 - val_accuracy: 0.4583\n",
      "Epoch 30/500\n",
      "3/3 [==============================] - 0s 20ms/step - loss: 0.9859 - accuracy: 0.3438 - val_loss: 0.9565 - val_accuracy: 0.5000\n",
      "Epoch 31/500\n",
      "3/3 [==============================] - 0s 19ms/step - loss: 0.9787 - accuracy: 0.4167 - val_loss: 0.9477 - val_accuracy: 0.5000\n",
      "Epoch 32/500\n",
      "3/3 [==============================] - 0s 18ms/step - loss: 0.9718 - accuracy: 0.4583 - val_loss: 0.9391 - val_accuracy: 0.5000\n",
      "Epoch 33/500\n",
      "3/3 [==============================] - 0s 20ms/step - loss: 0.9652 - accuracy: 0.4688 - val_loss: 0.9313 - val_accuracy: 0.5000\n",
      "Epoch 34/500\n",
      "3/3 [==============================] - 0s 20ms/step - loss: 0.9596 - accuracy: 0.4688 - val_loss: 0.9229 - val_accuracy: 0.5000\n",
      "Epoch 35/500\n",
      "3/3 [==============================] - 0s 20ms/step - loss: 0.9524 - accuracy: 0.4688 - val_loss: 0.9150 - val_accuracy: 0.5417\n",
      "Epoch 36/500\n",
      "3/3 [==============================] - 0s 19ms/step - loss: 0.9458 - accuracy: 0.4688 - val_loss: 0.9090 - val_accuracy: 0.5417\n",
      "Epoch 37/500\n",
      "3/3 [==============================] - 0s 21ms/step - loss: 0.9399 - accuracy: 0.4792 - val_loss: 0.9030 - val_accuracy: 0.5417\n",
      "Epoch 38/500\n",
      "3/3 [==============================] - 0s 21ms/step - loss: 0.9330 - accuracy: 0.4896 - val_loss: 0.8964 - val_accuracy: 0.5417\n",
      "Epoch 39/500\n",
      "3/3 [==============================] - 0s 20ms/step - loss: 0.9268 - accuracy: 0.4896 - val_loss: 0.8898 - val_accuracy: 0.5417\n",
      "Epoch 40/500\n",
      "3/3 [==============================] - 0s 18ms/step - loss: 0.9208 - accuracy: 0.4896 - val_loss: 0.8833 - val_accuracy: 0.5833\n",
      "Epoch 41/500\n",
      "3/3 [==============================] - 0s 19ms/step - loss: 0.9146 - accuracy: 0.4896 - val_loss: 0.8769 - val_accuracy: 0.5833\n",
      "Epoch 42/500\n",
      "3/3 [==============================] - 0s 24ms/step - loss: 0.9087 - accuracy: 0.5000 - val_loss: 0.8712 - val_accuracy: 0.5833\n",
      "Epoch 43/500\n",
      "3/3 [==============================] - 0s 19ms/step - loss: 0.9025 - accuracy: 0.4896 - val_loss: 0.8652 - val_accuracy: 0.6250\n",
      "Epoch 44/500\n",
      "3/3 [==============================] - 0s 19ms/step - loss: 0.8970 - accuracy: 0.5000 - val_loss: 0.8577 - val_accuracy: 0.5833\n",
      "Epoch 45/500\n",
      "3/3 [==============================] - 0s 20ms/step - loss: 0.8906 - accuracy: 0.5000 - val_loss: 0.8521 - val_accuracy: 0.6250\n",
      "Epoch 46/500\n",
      "3/3 [==============================] - 0s 21ms/step - loss: 0.8848 - accuracy: 0.5000 - val_loss: 0.8466 - val_accuracy: 0.6250\n",
      "Epoch 47/500\n",
      "3/3 [==============================] - 0s 18ms/step - loss: 0.8794 - accuracy: 0.5000 - val_loss: 0.8394 - val_accuracy: 0.6250\n",
      "Epoch 48/500\n",
      "3/3 [==============================] - 0s 19ms/step - loss: 0.8733 - accuracy: 0.5000 - val_loss: 0.8336 - val_accuracy: 0.6250\n",
      "Epoch 49/500\n",
      "3/3 [==============================] - 0s 20ms/step - loss: 0.8685 - accuracy: 0.5000 - val_loss: 0.8297 - val_accuracy: 0.6250\n",
      "Epoch 50/500\n",
      "3/3 [==============================] - 0s 20ms/step - loss: 0.8624 - accuracy: 0.5000 - val_loss: 0.8245 - val_accuracy: 0.6250\n",
      "Epoch 51/500\n",
      "3/3 [==============================] - 0s 20ms/step - loss: 0.8565 - accuracy: 0.5104 - val_loss: 0.8180 - val_accuracy: 0.6250\n",
      "Epoch 52/500\n",
      "3/3 [==============================] - 0s 23ms/step - loss: 0.8511 - accuracy: 0.5000 - val_loss: 0.8114 - val_accuracy: 0.6667\n",
      "Epoch 53/500\n",
      "3/3 [==============================] - 0s 20ms/step - loss: 0.8464 - accuracy: 0.5104 - val_loss: 0.8073 - val_accuracy: 0.6250\n",
      "Epoch 54/500\n",
      "3/3 [==============================] - 0s 18ms/step - loss: 0.8403 - accuracy: 0.5208 - val_loss: 0.8007 - val_accuracy: 0.6250\n",
      "Epoch 55/500\n",
      "3/3 [==============================] - 0s 18ms/step - loss: 0.8350 - accuracy: 0.5208 - val_loss: 0.7943 - val_accuracy: 0.6667\n",
      "Epoch 56/500\n",
      "3/3 [==============================] - 0s 20ms/step - loss: 0.8298 - accuracy: 0.5208 - val_loss: 0.7891 - val_accuracy: 0.6250\n",
      "Epoch 57/500\n",
      "3/3 [==============================] - 0s 20ms/step - loss: 0.8246 - accuracy: 0.5312 - val_loss: 0.7841 - val_accuracy: 0.6250\n",
      "Epoch 58/500\n",
      "3/3 [==============================] - 0s 19ms/step - loss: 0.8192 - accuracy: 0.5312 - val_loss: 0.7788 - val_accuracy: 0.6250\n",
      "Epoch 59/500\n"
     ]
    },
    {
     "name": "stdout",
     "output_type": "stream",
     "text": [
      "3/3 [==============================] - 0s 25ms/step - loss: 0.8145 - accuracy: 0.5208 - val_loss: 0.7727 - val_accuracy: 0.6667\n",
      "Epoch 60/500\n",
      "3/3 [==============================] - 0s 19ms/step - loss: 0.8101 - accuracy: 0.5208 - val_loss: 0.7659 - val_accuracy: 0.6667\n",
      "Epoch 61/500\n",
      "3/3 [==============================] - 0s 18ms/step - loss: 0.8043 - accuracy: 0.5208 - val_loss: 0.7612 - val_accuracy: 0.6667\n",
      "Epoch 62/500\n",
      "3/3 [==============================] - 0s 19ms/step - loss: 0.7994 - accuracy: 0.5208 - val_loss: 0.7557 - val_accuracy: 0.6667\n",
      "Epoch 63/500\n",
      "3/3 [==============================] - 0s 19ms/step - loss: 0.7943 - accuracy: 0.5312 - val_loss: 0.7515 - val_accuracy: 0.6667\n",
      "Epoch 64/500\n",
      "3/3 [==============================] - 0s 19ms/step - loss: 0.7896 - accuracy: 0.5729 - val_loss: 0.7467 - val_accuracy: 0.6667\n",
      "Epoch 65/500\n",
      "3/3 [==============================] - 0s 18ms/step - loss: 0.7850 - accuracy: 0.5729 - val_loss: 0.7430 - val_accuracy: 0.6250\n",
      "Epoch 66/500\n",
      "3/3 [==============================] - 0s 20ms/step - loss: 0.7802 - accuracy: 0.5729 - val_loss: 0.7385 - val_accuracy: 0.6250\n",
      "Epoch 67/500\n",
      "3/3 [==============================] - 0s 19ms/step - loss: 0.7755 - accuracy: 0.5625 - val_loss: 0.7344 - val_accuracy: 0.6250\n",
      "Epoch 68/500\n",
      "3/3 [==============================] - 0s 19ms/step - loss: 0.7707 - accuracy: 0.5729 - val_loss: 0.7292 - val_accuracy: 0.6250\n",
      "Epoch 69/500\n",
      "3/3 [==============================] - 0s 18ms/step - loss: 0.7662 - accuracy: 0.5833 - val_loss: 0.7239 - val_accuracy: 0.6250\n",
      "Epoch 70/500\n",
      "3/3 [==============================] - 0s 18ms/step - loss: 0.7625 - accuracy: 0.5625 - val_loss: 0.7211 - val_accuracy: 0.7083\n",
      "Epoch 71/500\n",
      "3/3 [==============================] - 0s 19ms/step - loss: 0.7572 - accuracy: 0.6042 - val_loss: 0.7156 - val_accuracy: 0.6667\n",
      "Epoch 72/500\n",
      "3/3 [==============================] - 0s 20ms/step - loss: 0.7526 - accuracy: 0.6146 - val_loss: 0.7107 - val_accuracy: 0.6667\n",
      "Epoch 73/500\n",
      "3/3 [==============================] - 0s 18ms/step - loss: 0.7482 - accuracy: 0.6042 - val_loss: 0.7065 - val_accuracy: 0.6667\n",
      "Epoch 74/500\n",
      "3/3 [==============================] - 0s 19ms/step - loss: 0.7439 - accuracy: 0.6146 - val_loss: 0.7014 - val_accuracy: 0.6667\n",
      "Epoch 75/500\n",
      "3/3 [==============================] - 0s 19ms/step - loss: 0.7399 - accuracy: 0.6146 - val_loss: 0.6960 - val_accuracy: 0.7083\n",
      "Epoch 76/500\n",
      "3/3 [==============================] - 0s 18ms/step - loss: 0.7355 - accuracy: 0.6146 - val_loss: 0.6921 - val_accuracy: 0.6667\n",
      "Epoch 77/500\n",
      "3/3 [==============================] - 0s 21ms/step - loss: 0.7312 - accuracy: 0.6146 - val_loss: 0.6880 - val_accuracy: 0.6667\n",
      "Epoch 78/500\n",
      "3/3 [==============================] - 0s 20ms/step - loss: 0.7270 - accuracy: 0.6250 - val_loss: 0.6842 - val_accuracy: 0.7083\n",
      "Epoch 79/500\n",
      "3/3 [==============================] - 0s 18ms/step - loss: 0.7231 - accuracy: 0.6250 - val_loss: 0.6810 - val_accuracy: 0.7083\n",
      "Epoch 80/500\n",
      "3/3 [==============================] - 0s 19ms/step - loss: 0.7191 - accuracy: 0.6250 - val_loss: 0.6760 - val_accuracy: 0.7083\n",
      "Epoch 81/500\n",
      "3/3 [==============================] - 0s 19ms/step - loss: 0.7149 - accuracy: 0.6562 - val_loss: 0.6718 - val_accuracy: 0.7083\n",
      "Epoch 82/500\n",
      "3/3 [==============================] - 0s 20ms/step - loss: 0.7108 - accuracy: 0.6458 - val_loss: 0.6676 - val_accuracy: 0.7083\n",
      "Epoch 83/500\n",
      "3/3 [==============================] - 0s 20ms/step - loss: 0.7069 - accuracy: 0.6458 - val_loss: 0.6640 - val_accuracy: 0.7083\n",
      "Epoch 84/500\n",
      "3/3 [==============================] - 0s 20ms/step - loss: 0.7029 - accuracy: 0.6562 - val_loss: 0.6603 - val_accuracy: 0.7083\n",
      "Epoch 85/500\n",
      "3/3 [==============================] - 0s 21ms/step - loss: 0.6994 - accuracy: 0.6562 - val_loss: 0.6573 - val_accuracy: 0.7083\n",
      "Epoch 86/500\n",
      "3/3 [==============================] - 0s 18ms/step - loss: 0.6955 - accuracy: 0.6771 - val_loss: 0.6532 - val_accuracy: 0.7083\n",
      "Epoch 87/500\n",
      "3/3 [==============================] - 0s 22ms/step - loss: 0.6920 - accuracy: 0.6875 - val_loss: 0.6482 - val_accuracy: 0.7083\n",
      "Epoch 88/500\n",
      "3/3 [==============================] - 0s 19ms/step - loss: 0.6882 - accuracy: 0.6667 - val_loss: 0.6437 - val_accuracy: 0.7500\n",
      "Epoch 89/500\n",
      "3/3 [==============================] - 0s 19ms/step - loss: 0.6844 - accuracy: 0.6458 - val_loss: 0.6394 - val_accuracy: 0.7500\n",
      "Epoch 90/500\n",
      "3/3 [==============================] - 0s 20ms/step - loss: 0.6804 - accuracy: 0.6458 - val_loss: 0.6367 - val_accuracy: 0.7500\n",
      "Epoch 91/500\n",
      "3/3 [==============================] - 0s 20ms/step - loss: 0.6772 - accuracy: 0.6667 - val_loss: 0.6338 - val_accuracy: 0.7500\n",
      "Epoch 92/500\n",
      "3/3 [==============================] - 0s 21ms/step - loss: 0.6733 - accuracy: 0.7083 - val_loss: 0.6306 - val_accuracy: 0.7083\n",
      "Epoch 93/500\n",
      "3/3 [==============================] - 0s 23ms/step - loss: 0.6706 - accuracy: 0.6771 - val_loss: 0.6288 - val_accuracy: 0.7083\n",
      "Epoch 94/500\n",
      "3/3 [==============================] - 0s 23ms/step - loss: 0.6666 - accuracy: 0.6562 - val_loss: 0.6259 - val_accuracy: 0.7083\n",
      "Epoch 95/500\n",
      "3/3 [==============================] - 0s 24ms/step - loss: 0.6629 - accuracy: 0.6562 - val_loss: 0.6220 - val_accuracy: 0.7083\n",
      "Epoch 96/500\n",
      "3/3 [==============================] - 0s 19ms/step - loss: 0.6604 - accuracy: 0.6875 - val_loss: 0.6166 - val_accuracy: 0.7500\n",
      "Epoch 97/500\n",
      "3/3 [==============================] - 0s 21ms/step - loss: 0.6563 - accuracy: 0.6979 - val_loss: 0.6126 - val_accuracy: 0.7500\n",
      "Epoch 98/500\n",
      "3/3 [==============================] - 0s 20ms/step - loss: 0.6531 - accuracy: 0.7188 - val_loss: 0.6086 - val_accuracy: 0.7500\n",
      "Epoch 99/500\n",
      "3/3 [==============================] - 0s 24ms/step - loss: 0.6496 - accuracy: 0.7292 - val_loss: 0.6051 - val_accuracy: 0.7500\n",
      "Epoch 100/500\n",
      "3/3 [==============================] - 0s 23ms/step - loss: 0.6461 - accuracy: 0.7292 - val_loss: 0.6029 - val_accuracy: 0.7500\n",
      "Epoch 101/500\n",
      "3/3 [==============================] - 0s 21ms/step - loss: 0.6429 - accuracy: 0.7083 - val_loss: 0.6002 - val_accuracy: 0.7500\n",
      "Epoch 102/500\n",
      "3/3 [==============================] - 0s 18ms/step - loss: 0.6398 - accuracy: 0.7083 - val_loss: 0.5971 - val_accuracy: 0.7500\n",
      "Epoch 103/500\n",
      "3/3 [==============================] - 0s 21ms/step - loss: 0.6365 - accuracy: 0.7188 - val_loss: 0.5949 - val_accuracy: 0.7500\n",
      "Epoch 104/500\n",
      "3/3 [==============================] - 0s 19ms/step - loss: 0.6334 - accuracy: 0.7083 - val_loss: 0.5921 - val_accuracy: 0.7083\n",
      "Epoch 105/500\n",
      "3/3 [==============================] - 0s 20ms/step - loss: 0.6303 - accuracy: 0.7292 - val_loss: 0.5895 - val_accuracy: 0.7083\n",
      "Epoch 106/500\n",
      "3/3 [==============================] - 0s 21ms/step - loss: 0.6274 - accuracy: 0.7292 - val_loss: 0.5858 - val_accuracy: 0.7500\n",
      "Epoch 107/500\n",
      "3/3 [==============================] - 0s 18ms/step - loss: 0.6245 - accuracy: 0.7188 - val_loss: 0.5823 - val_accuracy: 0.7500\n",
      "Epoch 108/500\n",
      "3/3 [==============================] - 0s 21ms/step - loss: 0.6215 - accuracy: 0.7292 - val_loss: 0.5804 - val_accuracy: 0.7500\n",
      "Epoch 109/500\n",
      "3/3 [==============================] - 0s 17ms/step - loss: 0.6182 - accuracy: 0.7292 - val_loss: 0.5774 - val_accuracy: 0.7500\n",
      "Epoch 110/500\n",
      "3/3 [==============================] - 0s 21ms/step - loss: 0.6157 - accuracy: 0.7292 - val_loss: 0.5755 - val_accuracy: 0.7083\n",
      "Epoch 111/500\n",
      "3/3 [==============================] - 0s 19ms/step - loss: 0.6124 - accuracy: 0.7292 - val_loss: 0.5724 - val_accuracy: 0.7083\n",
      "Epoch 112/500\n",
      "3/3 [==============================] - 0s 19ms/step - loss: 0.6097 - accuracy: 0.7396 - val_loss: 0.5682 - val_accuracy: 0.7500\n",
      "Epoch 113/500\n",
      "3/3 [==============================] - 0s 18ms/step - loss: 0.6071 - accuracy: 0.7500 - val_loss: 0.5645 - val_accuracy: 0.7500\n",
      "Epoch 114/500\n",
      "3/3 [==============================] - 0s 20ms/step - loss: 0.6040 - accuracy: 0.7604 - val_loss: 0.5612 - val_accuracy: 0.7500\n",
      "Epoch 115/500\n",
      "3/3 [==============================] - 0s 20ms/step - loss: 0.6010 - accuracy: 0.7604 - val_loss: 0.5587 - val_accuracy: 0.7500\n",
      "Epoch 116/500\n",
      "3/3 [==============================] - 0s 19ms/step - loss: 0.5983 - accuracy: 0.7604 - val_loss: 0.5565 - val_accuracy: 0.7500\n",
      "Epoch 117/500\n"
     ]
    },
    {
     "name": "stdout",
     "output_type": "stream",
     "text": [
      "3/3 [==============================] - 0s 17ms/step - loss: 0.5956 - accuracy: 0.7604 - val_loss: 0.5548 - val_accuracy: 0.7500\n",
      "Epoch 118/500\n",
      "3/3 [==============================] - 0s 20ms/step - loss: 0.5928 - accuracy: 0.7604 - val_loss: 0.5526 - val_accuracy: 0.7500\n",
      "Epoch 119/500\n",
      "3/3 [==============================] - 0s 18ms/step - loss: 0.5902 - accuracy: 0.7604 - val_loss: 0.5496 - val_accuracy: 0.7500\n",
      "Epoch 120/500\n",
      "3/3 [==============================] - 0s 20ms/step - loss: 0.5884 - accuracy: 0.7708 - val_loss: 0.5487 - val_accuracy: 0.7500\n",
      "Epoch 121/500\n",
      "3/3 [==============================] - 0s 24ms/step - loss: 0.5850 - accuracy: 0.7604 - val_loss: 0.5450 - val_accuracy: 0.7500\n",
      "Epoch 122/500\n",
      "3/3 [==============================] - 0s 20ms/step - loss: 0.5823 - accuracy: 0.7604 - val_loss: 0.5423 - val_accuracy: 0.7917\n",
      "Epoch 123/500\n",
      "3/3 [==============================] - 0s 21ms/step - loss: 0.5806 - accuracy: 0.7708 - val_loss: 0.5382 - val_accuracy: 0.8333\n",
      "Epoch 124/500\n",
      "3/3 [==============================] - 0s 21ms/step - loss: 0.5772 - accuracy: 0.7812 - val_loss: 0.5364 - val_accuracy: 0.7917\n",
      "Epoch 125/500\n",
      "3/3 [==============================] - 0s 23ms/step - loss: 0.5745 - accuracy: 0.7917 - val_loss: 0.5347 - val_accuracy: 0.7917\n",
      "Epoch 126/500\n",
      "3/3 [==============================] - 0s 22ms/step - loss: 0.5720 - accuracy: 0.7604 - val_loss: 0.5329 - val_accuracy: 0.7917\n",
      "Epoch 127/500\n",
      "3/3 [==============================] - 0s 22ms/step - loss: 0.5696 - accuracy: 0.7917 - val_loss: 0.5300 - val_accuracy: 0.8333\n",
      "Epoch 128/500\n",
      "3/3 [==============================] - 0s 21ms/step - loss: 0.5672 - accuracy: 0.7917 - val_loss: 0.5282 - val_accuracy: 0.7917\n",
      "Epoch 129/500\n",
      "3/3 [==============================] - 0s 24ms/step - loss: 0.5647 - accuracy: 0.8229 - val_loss: 0.5257 - val_accuracy: 0.8333\n",
      "Epoch 130/500\n",
      "3/3 [==============================] - 0s 21ms/step - loss: 0.5623 - accuracy: 0.8333 - val_loss: 0.5229 - val_accuracy: 0.8750\n",
      "Epoch 131/500\n",
      "3/3 [==============================] - 0s 20ms/step - loss: 0.5600 - accuracy: 0.8125 - val_loss: 0.5201 - val_accuracy: 0.8750\n",
      "Epoch 132/500\n",
      "3/3 [==============================] - 0s 19ms/step - loss: 0.5581 - accuracy: 0.8229 - val_loss: 0.5195 - val_accuracy: 0.8333\n",
      "Epoch 133/500\n",
      "3/3 [==============================] - 0s 22ms/step - loss: 0.5550 - accuracy: 0.8333 - val_loss: 0.5175 - val_accuracy: 0.8333\n",
      "Epoch 134/500\n",
      "3/3 [==============================] - 0s 21ms/step - loss: 0.5527 - accuracy: 0.8438 - val_loss: 0.5150 - val_accuracy: 0.8750\n",
      "Epoch 135/500\n",
      "3/3 [==============================] - 0s 21ms/step - loss: 0.5513 - accuracy: 0.8333 - val_loss: 0.5115 - val_accuracy: 0.8750\n",
      "Epoch 136/500\n",
      "3/3 [==============================] - 0s 24ms/step - loss: 0.5481 - accuracy: 0.8333 - val_loss: 0.5097 - val_accuracy: 0.8750\n",
      "Epoch 137/500\n",
      "3/3 [==============================] - 0s 22ms/step - loss: 0.5458 - accuracy: 0.8333 - val_loss: 0.5079 - val_accuracy: 0.8750\n",
      "Epoch 138/500\n",
      "3/3 [==============================] - 0s 23ms/step - loss: 0.5443 - accuracy: 0.8333 - val_loss: 0.5048 - val_accuracy: 0.8750\n",
      "Epoch 139/500\n",
      "3/3 [==============================] - 0s 25ms/step - loss: 0.5415 - accuracy: 0.8438 - val_loss: 0.5037 - val_accuracy: 0.8750\n",
      "Epoch 140/500\n",
      "3/3 [==============================] - 0s 22ms/step - loss: 0.5391 - accuracy: 0.8438 - val_loss: 0.5015 - val_accuracy: 0.8750\n",
      "Epoch 141/500\n",
      "3/3 [==============================] - 0s 22ms/step - loss: 0.5374 - accuracy: 0.8438 - val_loss: 0.5007 - val_accuracy: 0.8750\n",
      "Epoch 142/500\n",
      "3/3 [==============================] - 0s 23ms/step - loss: 0.5348 - accuracy: 0.8438 - val_loss: 0.4989 - val_accuracy: 0.8750\n",
      "Epoch 143/500\n",
      "3/3 [==============================] - 0s 23ms/step - loss: 0.5326 - accuracy: 0.8438 - val_loss: 0.4969 - val_accuracy: 0.8750\n",
      "Epoch 144/500\n",
      "3/3 [==============================] - 0s 23ms/step - loss: 0.5312 - accuracy: 0.8542 - val_loss: 0.4930 - val_accuracy: 0.8750\n",
      "Epoch 145/500\n",
      "3/3 [==============================] - 0s 23ms/step - loss: 0.5284 - accuracy: 0.8854 - val_loss: 0.4910 - val_accuracy: 0.8750\n",
      "Epoch 146/500\n",
      "3/3 [==============================] - 0s 22ms/step - loss: 0.5263 - accuracy: 0.8854 - val_loss: 0.4894 - val_accuracy: 0.8750\n",
      "Epoch 147/500\n",
      "3/3 [==============================] - 0s 23ms/step - loss: 0.5248 - accuracy: 0.8958 - val_loss: 0.4861 - val_accuracy: 0.8750\n",
      "Epoch 148/500\n",
      "3/3 [==============================] - 0s 24ms/step - loss: 0.5228 - accuracy: 0.8958 - val_loss: 0.4860 - val_accuracy: 0.8750\n",
      "Epoch 149/500\n",
      "3/3 [==============================] - 0s 21ms/step - loss: 0.5201 - accuracy: 0.9062 - val_loss: 0.4834 - val_accuracy: 0.8750\n",
      "Epoch 150/500\n",
      "3/3 [==============================] - 0s 22ms/step - loss: 0.5186 - accuracy: 0.8958 - val_loss: 0.4827 - val_accuracy: 0.8750\n",
      "Epoch 151/500\n",
      "3/3 [==============================] - 0s 23ms/step - loss: 0.5160 - accuracy: 0.8958 - val_loss: 0.4799 - val_accuracy: 0.8750\n",
      "Epoch 152/500\n",
      "3/3 [==============================] - 0s 22ms/step - loss: 0.5139 - accuracy: 0.9062 - val_loss: 0.4786 - val_accuracy: 0.8750\n",
      "Epoch 153/500\n",
      "3/3 [==============================] - 0s 22ms/step - loss: 0.5122 - accuracy: 0.9062 - val_loss: 0.4758 - val_accuracy: 0.8750\n",
      "Epoch 154/500\n",
      "3/3 [==============================] - 0s 22ms/step - loss: 0.5098 - accuracy: 0.9375 - val_loss: 0.4738 - val_accuracy: 0.8750\n",
      "Epoch 155/500\n",
      "3/3 [==============================] - 0s 23ms/step - loss: 0.5078 - accuracy: 0.9271 - val_loss: 0.4724 - val_accuracy: 0.8750\n",
      "Epoch 156/500\n",
      "3/3 [==============================] - 0s 25ms/step - loss: 0.5059 - accuracy: 0.9375 - val_loss: 0.4707 - val_accuracy: 0.8750\n",
      "Epoch 157/500\n",
      "3/3 [==============================] - 0s 21ms/step - loss: 0.5042 - accuracy: 0.9375 - val_loss: 0.4682 - val_accuracy: 0.8750\n",
      "Epoch 158/500\n",
      "3/3 [==============================] - 0s 23ms/step - loss: 0.5022 - accuracy: 0.9375 - val_loss: 0.4670 - val_accuracy: 0.8750\n",
      "Epoch 159/500\n",
      "3/3 [==============================] - 0s 21ms/step - loss: 0.5018 - accuracy: 0.8958 - val_loss: 0.4674 - val_accuracy: 0.8750\n",
      "Epoch 160/500\n",
      "3/3 [==============================] - 0s 21ms/step - loss: 0.4984 - accuracy: 0.8958 - val_loss: 0.4654 - val_accuracy: 0.8750\n",
      "Epoch 161/500\n",
      "3/3 [==============================] - 0s 20ms/step - loss: 0.4964 - accuracy: 0.9271 - val_loss: 0.4624 - val_accuracy: 0.8750\n",
      "Epoch 162/500\n",
      "3/3 [==============================] - 0s 20ms/step - loss: 0.4946 - accuracy: 0.9375 - val_loss: 0.4595 - val_accuracy: 0.8750\n",
      "Epoch 163/500\n",
      "3/3 [==============================] - 0s 20ms/step - loss: 0.4931 - accuracy: 0.9375 - val_loss: 0.4587 - val_accuracy: 0.8750\n",
      "Epoch 164/500\n",
      "3/3 [==============================] - 0s 20ms/step - loss: 0.4908 - accuracy: 0.9479 - val_loss: 0.4562 - val_accuracy: 0.8750\n",
      "Epoch 165/500\n",
      "3/3 [==============================] - 0s 22ms/step - loss: 0.4888 - accuracy: 0.9479 - val_loss: 0.4542 - val_accuracy: 0.8750\n",
      "Epoch 166/500\n",
      "3/3 [==============================] - 0s 21ms/step - loss: 0.4877 - accuracy: 0.9583 - val_loss: 0.4515 - val_accuracy: 0.8750\n",
      "Epoch 167/500\n",
      "3/3 [==============================] - 0s 20ms/step - loss: 0.4854 - accuracy: 0.9583 - val_loss: 0.4509 - val_accuracy: 0.8750\n",
      "Epoch 168/500\n",
      "3/3 [==============================] - 0s 20ms/step - loss: 0.4838 - accuracy: 0.9583 - val_loss: 0.4489 - val_accuracy: 0.8750\n",
      "Epoch 169/500\n",
      "3/3 [==============================] - 0s 22ms/step - loss: 0.4816 - accuracy: 0.9583 - val_loss: 0.4476 - val_accuracy: 0.8750\n",
      "Epoch 170/500\n",
      "3/3 [==============================] - 0s 18ms/step - loss: 0.4809 - accuracy: 0.9375 - val_loss: 0.4485 - val_accuracy: 0.8750\n",
      "Epoch 171/500\n",
      "3/3 [==============================] - 0s 20ms/step - loss: 0.4780 - accuracy: 0.9375 - val_loss: 0.4470 - val_accuracy: 0.8750\n",
      "Epoch 172/500\n",
      "3/3 [==============================] - 0s 19ms/step - loss: 0.4773 - accuracy: 0.9271 - val_loss: 0.4469 - val_accuracy: 0.8750\n",
      "Epoch 173/500\n",
      "3/3 [==============================] - 0s 23ms/step - loss: 0.4748 - accuracy: 0.9271 - val_loss: 0.4434 - val_accuracy: 0.8750\n",
      "Epoch 174/500\n",
      "3/3 [==============================] - 0s 21ms/step - loss: 0.4728 - accuracy: 0.9479 - val_loss: 0.4414 - val_accuracy: 0.8750\n"
     ]
    },
    {
     "name": "stdout",
     "output_type": "stream",
     "text": [
      "Epoch 175/500\n",
      "3/3 [==============================] - 0s 23ms/step - loss: 0.4712 - accuracy: 0.9583 - val_loss: 0.4382 - val_accuracy: 0.8750\n",
      "Epoch 176/500\n",
      "3/3 [==============================] - 0s 19ms/step - loss: 0.4691 - accuracy: 0.9583 - val_loss: 0.4362 - val_accuracy: 0.8750\n",
      "Epoch 177/500\n",
      "3/3 [==============================] - 0s 19ms/step - loss: 0.4677 - accuracy: 0.9583 - val_loss: 0.4353 - val_accuracy: 0.8750\n",
      "Epoch 178/500\n",
      "3/3 [==============================] - 0s 21ms/step - loss: 0.4661 - accuracy: 0.9583 - val_loss: 0.4328 - val_accuracy: 0.8750\n",
      "Epoch 179/500\n",
      "3/3 [==============================] - 0s 21ms/step - loss: 0.4644 - accuracy: 0.9583 - val_loss: 0.4311 - val_accuracy: 0.8750\n",
      "Epoch 180/500\n",
      "3/3 [==============================] - 0s 19ms/step - loss: 0.4630 - accuracy: 0.9583 - val_loss: 0.4313 - val_accuracy: 0.8750\n",
      "Epoch 181/500\n",
      "3/3 [==============================] - 0s 19ms/step - loss: 0.4607 - accuracy: 0.9583 - val_loss: 0.4304 - val_accuracy: 0.8750\n",
      "Epoch 182/500\n",
      "3/3 [==============================] - 0s 20ms/step - loss: 0.4591 - accuracy: 0.9583 - val_loss: 0.4292 - val_accuracy: 0.8750\n",
      "Epoch 183/500\n",
      "3/3 [==============================] - 0s 23ms/step - loss: 0.4573 - accuracy: 0.9583 - val_loss: 0.4270 - val_accuracy: 0.8750\n",
      "Epoch 184/500\n",
      "3/3 [==============================] - 0s 20ms/step - loss: 0.4556 - accuracy: 0.9583 - val_loss: 0.4256 - val_accuracy: 0.8750\n",
      "Epoch 185/500\n",
      "3/3 [==============================] - 0s 20ms/step - loss: 0.4555 - accuracy: 0.9583 - val_loss: 0.4219 - val_accuracy: 0.8750\n",
      "Epoch 186/500\n",
      "3/3 [==============================] - 0s 19ms/step - loss: 0.4535 - accuracy: 0.9583 - val_loss: 0.4221 - val_accuracy: 0.8750\n",
      "Epoch 187/500\n",
      "3/3 [==============================] - 0s 19ms/step - loss: 0.4508 - accuracy: 0.9583 - val_loss: 0.4204 - val_accuracy: 0.8750\n",
      "Epoch 188/500\n",
      "3/3 [==============================] - 0s 20ms/step - loss: 0.4493 - accuracy: 0.9688 - val_loss: 0.4182 - val_accuracy: 0.8750\n",
      "Epoch 189/500\n",
      "3/3 [==============================] - 0s 19ms/step - loss: 0.4484 - accuracy: 0.9583 - val_loss: 0.4186 - val_accuracy: 0.8750\n",
      "Epoch 190/500\n",
      "3/3 [==============================] - 0s 19ms/step - loss: 0.4461 - accuracy: 0.9583 - val_loss: 0.4161 - val_accuracy: 0.8750\n",
      "Epoch 191/500\n",
      "3/3 [==============================] - 0s 18ms/step - loss: 0.4446 - accuracy: 0.9583 - val_loss: 0.4158 - val_accuracy: 0.8750\n",
      "Epoch 192/500\n",
      "3/3 [==============================] - 0s 19ms/step - loss: 0.4426 - accuracy: 0.9583 - val_loss: 0.4142 - val_accuracy: 0.8750\n",
      "Epoch 193/500\n",
      "3/3 [==============================] - 0s 18ms/step - loss: 0.4410 - accuracy: 0.9688 - val_loss: 0.4118 - val_accuracy: 0.8750\n",
      "Epoch 194/500\n",
      "3/3 [==============================] - 0s 21ms/step - loss: 0.4406 - accuracy: 0.9583 - val_loss: 0.4118 - val_accuracy: 0.8750\n",
      "Epoch 195/500\n",
      "3/3 [==============================] - 0s 19ms/step - loss: 0.4380 - accuracy: 0.9583 - val_loss: 0.4097 - val_accuracy: 0.8750\n",
      "Epoch 196/500\n",
      "3/3 [==============================] - 0s 18ms/step - loss: 0.4365 - accuracy: 0.9688 - val_loss: 0.4081 - val_accuracy: 0.8750\n",
      "Epoch 197/500\n",
      "3/3 [==============================] - 0s 20ms/step - loss: 0.4347 - accuracy: 0.9688 - val_loss: 0.4055 - val_accuracy: 0.9167\n",
      "Epoch 198/500\n",
      "3/3 [==============================] - 0s 20ms/step - loss: 0.4333 - accuracy: 0.9792 - val_loss: 0.4030 - val_accuracy: 0.9167\n",
      "Epoch 199/500\n",
      "3/3 [==============================] - 0s 22ms/step - loss: 0.4324 - accuracy: 0.9792 - val_loss: 0.4007 - val_accuracy: 0.9167\n",
      "Epoch 200/500\n",
      "3/3 [==============================] - 0s 21ms/step - loss: 0.4301 - accuracy: 0.9792 - val_loss: 0.3996 - val_accuracy: 0.9167\n",
      "Epoch 201/500\n",
      "3/3 [==============================] - 0s 20ms/step - loss: 0.4284 - accuracy: 0.9792 - val_loss: 0.3996 - val_accuracy: 0.9167\n",
      "Epoch 202/500\n",
      "3/3 [==============================] - 0s 20ms/step - loss: 0.4269 - accuracy: 0.9792 - val_loss: 0.3996 - val_accuracy: 0.8750\n",
      "Epoch 203/500\n",
      "3/3 [==============================] - 0s 20ms/step - loss: 0.4254 - accuracy: 0.9688 - val_loss: 0.3995 - val_accuracy: 0.8750\n",
      "Epoch 204/500\n",
      "3/3 [==============================] - 0s 19ms/step - loss: 0.4240 - accuracy: 0.9688 - val_loss: 0.3991 - val_accuracy: 0.8750\n",
      "Epoch 205/500\n",
      "3/3 [==============================] - 0s 27ms/step - loss: 0.4228 - accuracy: 0.9479 - val_loss: 0.3982 - val_accuracy: 0.8750\n",
      "Epoch 206/500\n",
      "3/3 [==============================] - 0s 29ms/step - loss: 0.4209 - accuracy: 0.9583 - val_loss: 0.3954 - val_accuracy: 0.8750\n",
      "Epoch 207/500\n",
      "3/3 [==============================] - 0s 28ms/step - loss: 0.4192 - accuracy: 0.9688 - val_loss: 0.3931 - val_accuracy: 0.9167\n",
      "Epoch 208/500\n",
      "3/3 [==============================] - 0s 27ms/step - loss: 0.4177 - accuracy: 0.9792 - val_loss: 0.3907 - val_accuracy: 0.9167\n",
      "Epoch 209/500\n",
      "3/3 [==============================] - 0s 26ms/step - loss: 0.4162 - accuracy: 0.9792 - val_loss: 0.3889 - val_accuracy: 0.9167\n",
      "Epoch 210/500\n",
      "3/3 [==============================] - 0s 24ms/step - loss: 0.4150 - accuracy: 0.9792 - val_loss: 0.3867 - val_accuracy: 0.9167\n",
      "Epoch 211/500\n",
      "3/3 [==============================] - 0s 27ms/step - loss: 0.4132 - accuracy: 0.9792 - val_loss: 0.3855 - val_accuracy: 0.9167\n",
      "Epoch 212/500\n",
      "3/3 [==============================] - 0s 27ms/step - loss: 0.4117 - accuracy: 0.9792 - val_loss: 0.3850 - val_accuracy: 0.9167\n",
      "Epoch 213/500\n",
      "3/3 [==============================] - 0s 26ms/step - loss: 0.4101 - accuracy: 0.9792 - val_loss: 0.3840 - val_accuracy: 0.9167\n",
      "Epoch 214/500\n",
      "3/3 [==============================] - 0s 27ms/step - loss: 0.4086 - accuracy: 0.9792 - val_loss: 0.3833 - val_accuracy: 0.9167\n",
      "Epoch 215/500\n",
      "3/3 [==============================] - 0s 27ms/step - loss: 0.4074 - accuracy: 0.9792 - val_loss: 0.3823 - val_accuracy: 0.9167\n",
      "Epoch 216/500\n",
      "3/3 [==============================] - 0s 26ms/step - loss: 0.4059 - accuracy: 0.9792 - val_loss: 0.3817 - val_accuracy: 0.9167\n",
      "Epoch 217/500\n",
      "3/3 [==============================] - 0s 27ms/step - loss: 0.4045 - accuracy: 0.9792 - val_loss: 0.3811 - val_accuracy: 0.9167\n",
      "Epoch 218/500\n",
      "3/3 [==============================] - 0s 26ms/step - loss: 0.4028 - accuracy: 0.9792 - val_loss: 0.3788 - val_accuracy: 0.9167\n",
      "Epoch 219/500\n",
      "3/3 [==============================] - 0s 27ms/step - loss: 0.4015 - accuracy: 0.9792 - val_loss: 0.3765 - val_accuracy: 0.9167\n",
      "Epoch 220/500\n",
      "3/3 [==============================] - 0s 26ms/step - loss: 0.3999 - accuracy: 0.9792 - val_loss: 0.3756 - val_accuracy: 0.9167\n",
      "Epoch 221/500\n",
      "3/3 [==============================] - 0s 26ms/step - loss: 0.3985 - accuracy: 0.9792 - val_loss: 0.3739 - val_accuracy: 0.9167\n",
      "Epoch 222/500\n",
      "3/3 [==============================] - 0s 25ms/step - loss: 0.3969 - accuracy: 0.9792 - val_loss: 0.3723 - val_accuracy: 0.9167\n",
      "Epoch 223/500\n",
      "3/3 [==============================] - 0s 24ms/step - loss: 0.3955 - accuracy: 0.9792 - val_loss: 0.3708 - val_accuracy: 0.9167\n",
      "Epoch 224/500\n",
      "3/3 [==============================] - 0s 25ms/step - loss: 0.3940 - accuracy: 0.9792 - val_loss: 0.3697 - val_accuracy: 0.9167\n",
      "Epoch 225/500\n",
      "3/3 [==============================] - 0s 24ms/step - loss: 0.3929 - accuracy: 0.9792 - val_loss: 0.3692 - val_accuracy: 0.9167\n",
      "Epoch 226/500\n",
      "3/3 [==============================] - 0s 22ms/step - loss: 0.3911 - accuracy: 0.9792 - val_loss: 0.3678 - val_accuracy: 0.9167\n",
      "Epoch 227/500\n",
      "3/3 [==============================] - 0s 25ms/step - loss: 0.3897 - accuracy: 0.9792 - val_loss: 0.3671 - val_accuracy: 0.9167\n",
      "Epoch 228/500\n",
      "3/3 [==============================] - 0s 25ms/step - loss: 0.3883 - accuracy: 0.9792 - val_loss: 0.3661 - val_accuracy: 0.9167\n",
      "Epoch 229/500\n",
      "3/3 [==============================] - 0s 24ms/step - loss: 0.3870 - accuracy: 0.9792 - val_loss: 0.3639 - val_accuracy: 0.9167\n",
      "Epoch 230/500\n",
      "3/3 [==============================] - 0s 26ms/step - loss: 0.3855 - accuracy: 0.9792 - val_loss: 0.3622 - val_accuracy: 0.9167\n",
      "Epoch 231/500\n",
      "3/3 [==============================] - 0s 26ms/step - loss: 0.3842 - accuracy: 0.9792 - val_loss: 0.3605 - val_accuracy: 0.9167\n",
      "Epoch 232/500\n",
      "3/3 [==============================] - 0s 25ms/step - loss: 0.3825 - accuracy: 0.9792 - val_loss: 0.3596 - val_accuracy: 0.9167\n"
     ]
    },
    {
     "name": "stdout",
     "output_type": "stream",
     "text": [
      "Epoch 233/500\n",
      "3/3 [==============================] - 0s 30ms/step - loss: 0.3811 - accuracy: 0.9792 - val_loss: 0.3594 - val_accuracy: 0.9167\n",
      "Epoch 234/500\n",
      "3/3 [==============================] - 0s 24ms/step - loss: 0.3797 - accuracy: 0.9792 - val_loss: 0.3581 - val_accuracy: 0.9167\n",
      "Epoch 235/500\n",
      "3/3 [==============================] - 0s 23ms/step - loss: 0.3784 - accuracy: 0.9792 - val_loss: 0.3568 - val_accuracy: 0.9167\n",
      "Epoch 236/500\n",
      "3/3 [==============================] - 0s 24ms/step - loss: 0.3769 - accuracy: 0.9792 - val_loss: 0.3563 - val_accuracy: 0.9167\n",
      "Epoch 237/500\n",
      "3/3 [==============================] - 0s 23ms/step - loss: 0.3755 - accuracy: 0.9792 - val_loss: 0.3549 - val_accuracy: 0.9167\n",
      "Epoch 238/500\n",
      "3/3 [==============================] - 0s 24ms/step - loss: 0.3742 - accuracy: 0.9792 - val_loss: 0.3535 - val_accuracy: 0.9167\n",
      "Epoch 239/500\n",
      "3/3 [==============================] - 0s 21ms/step - loss: 0.3730 - accuracy: 0.9792 - val_loss: 0.3529 - val_accuracy: 0.9167\n",
      "Epoch 240/500\n",
      "3/3 [==============================] - 0s 20ms/step - loss: 0.3716 - accuracy: 0.9792 - val_loss: 0.3520 - val_accuracy: 0.9167\n",
      "Epoch 241/500\n",
      "3/3 [==============================] - 0s 19ms/step - loss: 0.3705 - accuracy: 0.9792 - val_loss: 0.3490 - val_accuracy: 0.9583\n",
      "Epoch 242/500\n",
      "3/3 [==============================] - 0s 21ms/step - loss: 0.3688 - accuracy: 0.9792 - val_loss: 0.3468 - val_accuracy: 0.9583\n",
      "Epoch 243/500\n",
      "3/3 [==============================] - 0s 20ms/step - loss: 0.3672 - accuracy: 0.9792 - val_loss: 0.3459 - val_accuracy: 0.9583\n",
      "Epoch 244/500\n",
      "3/3 [==============================] - 0s 19ms/step - loss: 0.3657 - accuracy: 0.9792 - val_loss: 0.3446 - val_accuracy: 0.9583\n",
      "Epoch 245/500\n",
      "3/3 [==============================] - 0s 17ms/step - loss: 0.3646 - accuracy: 0.9896 - val_loss: 0.3431 - val_accuracy: 0.9583\n",
      "Epoch 246/500\n",
      "3/3 [==============================] - 0s 20ms/step - loss: 0.3632 - accuracy: 0.9792 - val_loss: 0.3433 - val_accuracy: 0.9583\n",
      "Epoch 247/500\n",
      "3/3 [==============================] - 0s 18ms/step - loss: 0.3618 - accuracy: 0.9792 - val_loss: 0.3432 - val_accuracy: 0.9167\n",
      "Epoch 248/500\n",
      "3/3 [==============================] - 0s 19ms/step - loss: 0.3602 - accuracy: 0.9792 - val_loss: 0.3417 - val_accuracy: 0.9583\n",
      "Epoch 249/500\n",
      "3/3 [==============================] - 0s 18ms/step - loss: 0.3592 - accuracy: 0.9792 - val_loss: 0.3395 - val_accuracy: 0.9583\n",
      "Epoch 250/500\n",
      "3/3 [==============================] - 0s 18ms/step - loss: 0.3584 - accuracy: 0.9792 - val_loss: 0.3391 - val_accuracy: 0.9583\n",
      "Epoch 251/500\n",
      "3/3 [==============================] - 0s 21ms/step - loss: 0.3561 - accuracy: 0.9792 - val_loss: 0.3377 - val_accuracy: 0.9583\n",
      "Epoch 252/500\n",
      "3/3 [==============================] - 0s 20ms/step - loss: 0.3547 - accuracy: 0.9792 - val_loss: 0.3364 - val_accuracy: 0.9583\n",
      "Epoch 253/500\n",
      "3/3 [==============================] - 0s 19ms/step - loss: 0.3537 - accuracy: 0.9792 - val_loss: 0.3341 - val_accuracy: 0.9583\n",
      "Epoch 254/500\n",
      "3/3 [==============================] - 0s 17ms/step - loss: 0.3523 - accuracy: 0.9792 - val_loss: 0.3334 - val_accuracy: 0.9583\n",
      "Epoch 255/500\n",
      "3/3 [==============================] - 0s 18ms/step - loss: 0.3507 - accuracy: 0.9792 - val_loss: 0.3326 - val_accuracy: 0.9583\n",
      "Epoch 256/500\n",
      "3/3 [==============================] - 0s 18ms/step - loss: 0.3500 - accuracy: 0.9896 - val_loss: 0.3302 - val_accuracy: 0.9583\n",
      "Epoch 257/500\n",
      "3/3 [==============================] - 0s 20ms/step - loss: 0.3480 - accuracy: 0.9896 - val_loss: 0.3294 - val_accuracy: 0.9583\n",
      "Epoch 258/500\n",
      "3/3 [==============================] - 0s 18ms/step - loss: 0.3468 - accuracy: 0.9792 - val_loss: 0.3291 - val_accuracy: 0.9583\n",
      "Epoch 259/500\n",
      "3/3 [==============================] - 0s 19ms/step - loss: 0.3456 - accuracy: 0.9792 - val_loss: 0.3288 - val_accuracy: 0.9583\n",
      "Epoch 260/500\n",
      "3/3 [==============================] - 0s 18ms/step - loss: 0.3441 - accuracy: 0.9792 - val_loss: 0.3279 - val_accuracy: 0.9583\n",
      "Epoch 261/500\n",
      "3/3 [==============================] - 0s 19ms/step - loss: 0.3433 - accuracy: 0.9792 - val_loss: 0.3254 - val_accuracy: 0.9583\n",
      "Epoch 262/500\n",
      "3/3 [==============================] - 0s 20ms/step - loss: 0.3413 - accuracy: 0.9896 - val_loss: 0.3240 - val_accuracy: 0.9583\n",
      "Epoch 263/500\n",
      "3/3 [==============================] - 0s 20ms/step - loss: 0.3402 - accuracy: 0.9896 - val_loss: 0.3222 - val_accuracy: 0.9583\n",
      "Epoch 264/500\n",
      "3/3 [==============================] - 0s 20ms/step - loss: 0.3387 - accuracy: 0.9896 - val_loss: 0.3217 - val_accuracy: 0.9583\n",
      "Epoch 265/500\n",
      "3/3 [==============================] - 0s 18ms/step - loss: 0.3373 - accuracy: 0.9896 - val_loss: 0.3208 - val_accuracy: 0.9583\n",
      "Epoch 266/500\n",
      "3/3 [==============================] - 0s 20ms/step - loss: 0.3363 - accuracy: 0.9792 - val_loss: 0.3207 - val_accuracy: 0.9583\n",
      "Epoch 267/500\n",
      "3/3 [==============================] - 0s 19ms/step - loss: 0.3351 - accuracy: 0.9792 - val_loss: 0.3187 - val_accuracy: 0.9583\n",
      "Epoch 268/500\n",
      "3/3 [==============================] - 0s 18ms/step - loss: 0.3334 - accuracy: 0.9896 - val_loss: 0.3177 - val_accuracy: 0.9583\n",
      "Epoch 269/500\n",
      "3/3 [==============================] - 0s 19ms/step - loss: 0.3321 - accuracy: 0.9792 - val_loss: 0.3169 - val_accuracy: 0.9583\n",
      "Epoch 270/500\n",
      "3/3 [==============================] - 0s 18ms/step - loss: 0.3307 - accuracy: 0.9792 - val_loss: 0.3155 - val_accuracy: 0.9583\n",
      "Epoch 271/500\n",
      "3/3 [==============================] - 0s 18ms/step - loss: 0.3301 - accuracy: 0.9896 - val_loss: 0.3154 - val_accuracy: 0.9583\n",
      "Epoch 272/500\n",
      "3/3 [==============================] - 0s 18ms/step - loss: 0.3283 - accuracy: 0.9792 - val_loss: 0.3131 - val_accuracy: 0.9583\n",
      "Epoch 273/500\n",
      "3/3 [==============================] - 0s 19ms/step - loss: 0.3269 - accuracy: 0.9896 - val_loss: 0.3113 - val_accuracy: 0.9583\n",
      "Epoch 274/500\n",
      "3/3 [==============================] - 0s 20ms/step - loss: 0.3256 - accuracy: 0.9896 - val_loss: 0.3100 - val_accuracy: 0.9583\n",
      "Epoch 275/500\n",
      "3/3 [==============================] - 0s 20ms/step - loss: 0.3243 - accuracy: 0.9896 - val_loss: 0.3087 - val_accuracy: 0.9583\n",
      "Epoch 276/500\n",
      "3/3 [==============================] - 0s 18ms/step - loss: 0.3230 - accuracy: 0.9896 - val_loss: 0.3084 - val_accuracy: 0.9583\n",
      "Epoch 277/500\n",
      "3/3 [==============================] - 0s 19ms/step - loss: 0.3218 - accuracy: 0.9896 - val_loss: 0.3082 - val_accuracy: 0.9583\n",
      "Epoch 278/500\n",
      "3/3 [==============================] - 0s 19ms/step - loss: 0.3201 - accuracy: 0.9896 - val_loss: 0.3068 - val_accuracy: 0.9583\n",
      "Epoch 279/500\n",
      "3/3 [==============================] - 0s 18ms/step - loss: 0.3192 - accuracy: 0.9896 - val_loss: 0.3046 - val_accuracy: 0.9583\n",
      "Epoch 280/500\n",
      "3/3 [==============================] - 0s 19ms/step - loss: 0.3173 - accuracy: 0.9896 - val_loss: 0.3037 - val_accuracy: 0.9583\n",
      "Epoch 281/500\n",
      "3/3 [==============================] - 0s 21ms/step - loss: 0.3160 - accuracy: 0.9896 - val_loss: 0.3030 - val_accuracy: 0.9583\n",
      "Epoch 282/500\n",
      "3/3 [==============================] - 0s 19ms/step - loss: 0.3145 - accuracy: 0.9896 - val_loss: 0.3014 - val_accuracy: 0.9583\n",
      "Epoch 283/500\n",
      "3/3 [==============================] - 0s 18ms/step - loss: 0.3145 - accuracy: 0.9896 - val_loss: 0.3016 - val_accuracy: 0.9583\n",
      "Epoch 284/500\n",
      "3/3 [==============================] - 0s 19ms/step - loss: 0.3118 - accuracy: 0.9896 - val_loss: 0.3000 - val_accuracy: 0.9583\n",
      "Epoch 285/500\n",
      "3/3 [==============================] - 0s 17ms/step - loss: 0.3104 - accuracy: 0.9896 - val_loss: 0.2978 - val_accuracy: 0.9583\n",
      "Epoch 286/500\n",
      "3/3 [==============================] - 0s 18ms/step - loss: 0.3090 - accuracy: 0.9896 - val_loss: 0.2954 - val_accuracy: 0.9583\n",
      "Epoch 287/500\n",
      "3/3 [==============================] - 0s 18ms/step - loss: 0.3076 - accuracy: 0.9896 - val_loss: 0.2944 - val_accuracy: 0.9583\n",
      "Epoch 288/500\n",
      "3/3 [==============================] - 0s 18ms/step - loss: 0.3062 - accuracy: 0.9896 - val_loss: 0.2929 - val_accuracy: 0.9583\n",
      "Epoch 289/500\n",
      "3/3 [==============================] - 0s 19ms/step - loss: 0.3048 - accuracy: 0.9896 - val_loss: 0.2914 - val_accuracy: 0.9583\n",
      "Epoch 290/500\n",
      "3/3 [==============================] - 0s 19ms/step - loss: 0.3034 - accuracy: 0.9896 - val_loss: 0.2903 - val_accuracy: 0.9583\n"
     ]
    },
    {
     "name": "stdout",
     "output_type": "stream",
     "text": [
      "Epoch 291/500\n",
      "3/3 [==============================] - 0s 20ms/step - loss: 0.3023 - accuracy: 0.9896 - val_loss: 0.2902 - val_accuracy: 0.9583\n",
      "Epoch 292/500\n",
      "3/3 [==============================] - 0s 18ms/step - loss: 0.3007 - accuracy: 0.9896 - val_loss: 0.2890 - val_accuracy: 0.9583\n",
      "Epoch 293/500\n",
      "3/3 [==============================] - 0s 18ms/step - loss: 0.3001 - accuracy: 0.9896 - val_loss: 0.2892 - val_accuracy: 0.9583\n",
      "Epoch 294/500\n",
      "3/3 [==============================] - 0s 19ms/step - loss: 0.2982 - accuracy: 0.9896 - val_loss: 0.2878 - val_accuracy: 0.9583\n",
      "Epoch 295/500\n",
      "3/3 [==============================] - 0s 18ms/step - loss: 0.2971 - accuracy: 0.9896 - val_loss: 0.2870 - val_accuracy: 0.9583\n",
      "Epoch 296/500\n",
      "3/3 [==============================] - 0s 20ms/step - loss: 0.2963 - accuracy: 0.9896 - val_loss: 0.2842 - val_accuracy: 0.9583\n",
      "Epoch 297/500\n",
      "3/3 [==============================] - 0s 19ms/step - loss: 0.2946 - accuracy: 0.9896 - val_loss: 0.2835 - val_accuracy: 0.9583\n",
      "Epoch 298/500\n",
      "3/3 [==============================] - 0s 18ms/step - loss: 0.2934 - accuracy: 0.9896 - val_loss: 0.2828 - val_accuracy: 0.9583\n",
      "Epoch 299/500\n",
      "3/3 [==============================] - 0s 20ms/step - loss: 0.2919 - accuracy: 0.9896 - val_loss: 0.2817 - val_accuracy: 0.9583\n",
      "Epoch 300/500\n",
      "3/3 [==============================] - 0s 21ms/step - loss: 0.2910 - accuracy: 0.9896 - val_loss: 0.2803 - val_accuracy: 0.9583\n",
      "Epoch 301/500\n",
      "3/3 [==============================] - 0s 22ms/step - loss: 0.2898 - accuracy: 0.9896 - val_loss: 0.2795 - val_accuracy: 0.9583\n",
      "Epoch 302/500\n",
      "3/3 [==============================] - 0s 20ms/step - loss: 0.2884 - accuracy: 0.9896 - val_loss: 0.2782 - val_accuracy: 0.9583\n",
      "Epoch 303/500\n",
      "3/3 [==============================] - 0s 19ms/step - loss: 0.2874 - accuracy: 0.9896 - val_loss: 0.2774 - val_accuracy: 0.9583\n",
      "Epoch 304/500\n",
      "3/3 [==============================] - 0s 20ms/step - loss: 0.2862 - accuracy: 0.9896 - val_loss: 0.2763 - val_accuracy: 0.9583\n",
      "Epoch 305/500\n",
      "3/3 [==============================] - 0s 19ms/step - loss: 0.2851 - accuracy: 0.9896 - val_loss: 0.2750 - val_accuracy: 0.9583\n",
      "Epoch 306/500\n",
      "3/3 [==============================] - 0s 20ms/step - loss: 0.2841 - accuracy: 0.9896 - val_loss: 0.2736 - val_accuracy: 0.9583\n",
      "Epoch 307/500\n",
      "3/3 [==============================] - 0s 26ms/step - loss: 0.2829 - accuracy: 0.9896 - val_loss: 0.2732 - val_accuracy: 0.9583\n",
      "Epoch 308/500\n",
      "3/3 [==============================] - 0s 25ms/step - loss: 0.2816 - accuracy: 0.9896 - val_loss: 0.2723 - val_accuracy: 0.9583\n",
      "Epoch 309/500\n",
      "3/3 [==============================] - 0s 26ms/step - loss: 0.2806 - accuracy: 0.9896 - val_loss: 0.2715 - val_accuracy: 0.9583\n",
      "Epoch 310/500\n",
      "3/3 [==============================] - 0s 28ms/step - loss: 0.2796 - accuracy: 0.9896 - val_loss: 0.2704 - val_accuracy: 0.9583\n",
      "Epoch 311/500\n",
      "3/3 [==============================] - 0s 26ms/step - loss: 0.2783 - accuracy: 0.9896 - val_loss: 0.2696 - val_accuracy: 0.9583\n",
      "Epoch 312/500\n",
      "3/3 [==============================] - 0s 28ms/step - loss: 0.2771 - accuracy: 0.9896 - val_loss: 0.2688 - val_accuracy: 0.9583\n",
      "Epoch 313/500\n",
      "3/3 [==============================] - 0s 26ms/step - loss: 0.2761 - accuracy: 0.9896 - val_loss: 0.2676 - val_accuracy: 0.9583\n",
      "Epoch 314/500\n",
      "3/3 [==============================] - 0s 24ms/step - loss: 0.2752 - accuracy: 0.9896 - val_loss: 0.2675 - val_accuracy: 0.9583\n",
      "Epoch 315/500\n",
      "3/3 [==============================] - 0s 25ms/step - loss: 0.2739 - accuracy: 0.9896 - val_loss: 0.2665 - val_accuracy: 0.9583\n",
      "Epoch 316/500\n",
      "3/3 [==============================] - 0s 24ms/step - loss: 0.2729 - accuracy: 0.9896 - val_loss: 0.2656 - val_accuracy: 0.9583\n",
      "Epoch 317/500\n",
      "3/3 [==============================] - 0s 27ms/step - loss: 0.2720 - accuracy: 0.9896 - val_loss: 0.2648 - val_accuracy: 0.9583\n",
      "Epoch 318/500\n",
      "3/3 [==============================] - 0s 25ms/step - loss: 0.2712 - accuracy: 0.9896 - val_loss: 0.2620 - val_accuracy: 0.9583\n",
      "Epoch 319/500\n",
      "3/3 [==============================] - 0s 27ms/step - loss: 0.2696 - accuracy: 0.9896 - val_loss: 0.2604 - val_accuracy: 0.9583\n",
      "Epoch 320/500\n",
      "3/3 [==============================] - 0s 26ms/step - loss: 0.2692 - accuracy: 0.9896 - val_loss: 0.2591 - val_accuracy: 0.9583\n",
      "Epoch 321/500\n",
      "3/3 [==============================] - 0s 23ms/step - loss: 0.2673 - accuracy: 0.9896 - val_loss: 0.2589 - val_accuracy: 0.9583\n",
      "Epoch 322/500\n",
      "3/3 [==============================] - 0s 28ms/step - loss: 0.2662 - accuracy: 0.9896 - val_loss: 0.2586 - val_accuracy: 0.9583\n",
      "Epoch 323/500\n",
      "3/3 [==============================] - 0s 24ms/step - loss: 0.2651 - accuracy: 0.9896 - val_loss: 0.2586 - val_accuracy: 0.9583\n",
      "Epoch 324/500\n",
      "3/3 [==============================] - 0s 27ms/step - loss: 0.2641 - accuracy: 0.9896 - val_loss: 0.2581 - val_accuracy: 0.9583\n",
      "Epoch 325/500\n",
      "3/3 [==============================] - 0s 25ms/step - loss: 0.2631 - accuracy: 0.9896 - val_loss: 0.2576 - val_accuracy: 0.9583\n",
      "Epoch 326/500\n",
      "3/3 [==============================] - 0s 26ms/step - loss: 0.2622 - accuracy: 0.9896 - val_loss: 0.2567 - val_accuracy: 0.9583\n",
      "Epoch 327/500\n",
      "3/3 [==============================] - 0s 24ms/step - loss: 0.2611 - accuracy: 0.9896 - val_loss: 0.2547 - val_accuracy: 0.9583\n",
      "Epoch 328/500\n",
      "3/3 [==============================] - 0s 25ms/step - loss: 0.2600 - accuracy: 0.9896 - val_loss: 0.2528 - val_accuracy: 0.9583\n",
      "Epoch 329/500\n",
      "3/3 [==============================] - 0s 29ms/step - loss: 0.2589 - accuracy: 0.9896 - val_loss: 0.2513 - val_accuracy: 0.9583\n",
      "Epoch 330/500\n",
      "3/3 [==============================] - 0s 25ms/step - loss: 0.2582 - accuracy: 0.9896 - val_loss: 0.2500 - val_accuracy: 0.9583\n",
      "Epoch 331/500\n",
      "3/3 [==============================] - 0s 23ms/step - loss: 0.2569 - accuracy: 0.9896 - val_loss: 0.2493 - val_accuracy: 0.9583\n",
      "Epoch 332/500\n",
      "3/3 [==============================] - 0s 26ms/step - loss: 0.2559 - accuracy: 0.9896 - val_loss: 0.2497 - val_accuracy: 0.9583\n",
      "Epoch 333/500\n",
      "3/3 [==============================] - 0s 24ms/step - loss: 0.2550 - accuracy: 0.9896 - val_loss: 0.2498 - val_accuracy: 0.9583\n",
      "Epoch 334/500\n",
      "1/3 [=========>....................] - ETA: 0s - loss: 0.2388 - accuracy: 1.0000Restoring model weights from the end of the best epoch: 331.\n",
      "3/3 [==============================] - 0s 22ms/step - loss: 0.2540 - accuracy: 0.9896 - val_loss: 0.2498 - val_accuracy: 0.9583\n",
      "Epoch 334: early stopping\n"
     ]
    },
    {
     "data": {
      "text/plain": [
       "<keras.callbacks.History at 0x25493b5dbe0>"
      ]
     },
     "execution_count": 58,
     "metadata": {},
     "output_type": "execute_result"
    }
   ],
   "source": [
    "###########\n",
    "# 모델 학습\n",
    "###########\n",
    "\n",
    "\n",
    "model.fit(x_train, y_train, epochs=500, verbose = 1, validation_split=0.2, callbacks=[es])"
   ]
  },
  {
   "cell_type": "code",
   "execution_count": 59,
   "metadata": {
    "id": "_BZMmR5--xMb"
   },
   "outputs": [
    {
     "data": {
      "text/plain": [
       "array([[6.2787323e-04, 1.6920653e-01, 8.3016562e-01],\n",
       "       [2.0156227e-04, 1.5077306e-01, 8.4902543e-01],\n",
       "       [9.1394442e-01, 8.5740820e-02, 3.1473665e-04],\n",
       "       [2.8935794e-03, 3.9096349e-01, 6.0614300e-01],\n",
       "       [9.6126258e-01, 3.8661670e-02, 7.5802025e-05]], dtype=float32)"
      ]
     },
     "execution_count": 59,
     "metadata": {},
     "output_type": "execute_result"
    }
   ],
   "source": [
    "###########\n",
    "# 모델 예측\n",
    "###########\n",
    "y_pred = model.predict(x_test)\n",
    "\n",
    "y_pred[:5]\n",
    "\n"
   ]
  },
  {
   "cell_type": "code",
   "execution_count": 60,
   "metadata": {},
   "outputs": [
    {
     "data": {
      "text/plain": [
       "array([[2],\n",
       "       [2],\n",
       "       [0],\n",
       "       [2],\n",
       "       [0]], dtype=int64)"
      ]
     },
     "execution_count": 60,
     "metadata": {},
     "output_type": "execute_result"
    }
   ],
   "source": [
    "y_pred[:5].argmax(axis=1).reshape(-1,1)"
   ]
  },
  {
   "cell_type": "code",
   "execution_count": 61,
   "metadata": {},
   "outputs": [
    {
     "data": {
      "text/plain": [
       "array([[0., 0., 1.],\n",
       "       [0., 0., 1.],\n",
       "       [1., 0., 0.],\n",
       "       [0., 0., 1.],\n",
       "       [1., 0., 0.]], dtype=float32)"
      ]
     },
     "execution_count": 61,
     "metadata": {},
     "output_type": "execute_result"
    }
   ],
   "source": [
    "y_test[:5]"
   ]
  },
  {
   "cell_type": "code",
   "execution_count": null,
   "metadata": {},
   "outputs": [],
   "source": []
  }
 ],
 "metadata": {
  "colab": {
   "collapsed_sections": [
    "0xVNQT9V-Iev"
   ],
   "name": "2_1_Review _ ANN Preview III.ipynb",
   "provenance": []
  },
  "kernelspec": {
   "display_name": "Python 3",
   "language": "python",
   "name": "python3"
  },
  "language_info": {
   "codemirror_mode": {
    "name": "ipython",
    "version": 3
   },
   "file_extension": ".py",
   "mimetype": "text/x-python",
   "name": "python",
   "nbconvert_exporter": "python",
   "pygments_lexer": "ipython3",
   "version": "3.8.8"
  }
 },
 "nbformat": 4,
 "nbformat_minor": 1
}
